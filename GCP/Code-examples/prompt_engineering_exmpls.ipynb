{
  "cells": [
    {
      "cell_type": "code",
      "id": "hPRsxfa51uI8BbJZKYxP2FWS",
      "metadata": {
        "tags": [],
        "id": "hPRsxfa51uI8BbJZKYxP2FWS"
      },
      "source": [
        "import vertexai"
      ],
      "execution_count": null,
      "outputs": []
    },
    {
      "cell_type": "code",
      "source": [
        "from vertexai.generative_models import GenerationConfig, GenerativeModel\n",
        "import time"
      ],
      "metadata": {
        "id": "WPRPtsORQMpN"
      },
      "id": "WPRPtsORQMpN",
      "execution_count": null,
      "outputs": []
    },
    {
      "cell_type": "code",
      "source": [
        "model = GenerativeModel(\"gemini-1.5-flash\")"
      ],
      "metadata": {
        "id": "fShdM5IGSnhG"
      },
      "id": "fShdM5IGSnhG",
      "execution_count": null,
      "outputs": []
    },
    {
      "cell_type": "code",
      "source": [
        "def call_gemini(prompt, generation_config=GenerationConfig(temperature=1.0)):\n",
        "    wait_time = 1\n",
        "    while True:\n",
        "        try:\n",
        "            response = model.generate_content(prompt, generation_config=generation_config).text\n",
        "            return response\n",
        "            break  # Exit the loop if successful\n",
        "        except Exception as e:  # Replace with the actual exception type\n",
        "            time.sleep(wait_time)\n",
        "            wait_time *= 2  # Double the wait time"
      ],
      "metadata": {
        "id": "75VsSaRUSy2Q"
      },
      "id": "75VsSaRUSy2Q",
      "execution_count": null,
      "outputs": []
    },
    {
      "cell_type": "code",
      "source": [
        "def send_message_gemini(model, prompt):\n",
        "    wait_time = 1\n",
        "    while True:\n",
        "        try:\n",
        "            response = model.send_message(prompt).text\n",
        "            return response\n",
        "            break  # Exit the loop if successful\n",
        "        except Exception as e:  # Replace with the actual exception type\n",
        "            time.sleep(wait_time)\n",
        "            wait_time *= 2  # Double the wait time"
      ],
      "metadata": {
        "id": "UsMyPDAOS3hs"
      },
      "id": "UsMyPDAOS3hs",
      "execution_count": null,
      "outputs": []
    },
    {
      "cell_type": "code",
      "source": [
        "prompt = \"What do you think could be a good name for a flower shop that specializes in selling bouquets of dried flowers more than fresh flowers?\"\n",
        "print(call_gemini(prompt))"
      ],
      "metadata": {
        "colab": {
          "base_uri": "https://localhost:8080/"
        },
        "id": "IA1y5gl_TBdk",
        "outputId": "3b0efc2d-d47d-47d1-c3d8-f9cf4449a6e6"
      },
      "id": "IA1y5gl_TBdk",
      "execution_count": null,
      "outputs": [
        {
          "output_type": "stream",
          "name": "stdout",
          "text": [
            "Here are some names for a flower shop specializing in dried flowers:\n",
            "\n",
            "**Evoking Timelessness and Durability:**\n",
            "\n",
            "* **Everbloom**\n",
            "* **Eternal Bloom**\n",
            "* **Bloom & Co.**\n",
            "* **The Dried Bouquet**\n",
            "* **Forever Blooms**\n",
            "* **The Lasting Bloom**\n",
            "* **Dried & Divine**\n",
            "* **The Dusty Petal**\n",
            "* **Bloom & Preserve**\n",
            "\n",
            "**Highlighting Natural Beauty and Rustic Charm:**\n",
            "\n",
            "* **Wildflower & Co.**\n",
            "* **The Rustic Bloom**\n",
            "* **Field & Bloom**\n",
            "* **The Dried Garden**\n",
            "* **Bohemian Blooms**\n",
            "* **Whispering Willow**\n",
            "* **Gather & Bloom**\n",
            "\n",
            "**Playing with Words:**\n",
            "\n",
            "* **Bloom Forever**\n",
            "* **Forever Blooming**\n",
            "* **Dried, But Not Dead**\n",
            "* **The Timeless Bouquet**\n",
            "* **Blooms in Time**\n",
            "\n",
            "**Unique and Playful:**\n",
            "\n",
            "* **The Petal Project**\n",
            "* **The Bloom Bar**\n",
            "* **The Dried Flower Collective**\n",
            "* **Bloom & Dust**\n",
            "* **The Flower Whisperer**\n",
            "\n",
            "**Tips for Choosing a Name:**\n",
            "\n",
            "* **Keep it short and memorable.**\n",
            "* **Make sure it's easy to pronounce and spell.**\n",
            "* **Consider your target audience and branding.**\n",
            "* **Check for availability of domain names and social media handles.**\n",
            "* **Get feedback from friends and family.**\n",
            "\n",
            "Ultimately, the best name for your flower shop is one that you love and that reflects your brand's personality and values. \n",
            "\n"
          ]
        }
      ]
    },
    {
      "cell_type": "code",
      "source": [
        "prompt = \"Suggest a name for a flower shop that sells bouquets of dried flowers\"\n",
        "print(call_gemini(prompt))"
      ],
      "metadata": {
        "colab": {
          "base_uri": "https://localhost:8080/"
        },
        "id": "BgYeBpqFTy9K",
        "outputId": "f711ac98-6ba6-4d31-877f-83928b8696bb"
      },
      "id": "BgYeBpqFTy9K",
      "execution_count": null,
      "outputs": [
        {
          "output_type": "stream",
          "name": "stdout",
          "text": [
            "## Flower Shop Names for Dried Bouquets:\n",
            "\n",
            "**Short & Sweet:**\n",
            "\n",
            "* Bloom & Fade\n",
            "* Everlasting Bloom\n",
            "* Dried Dreams\n",
            "* Paper Petal\n",
            "* Bloom Forever\n",
            "* Timeless Bloom\n",
            "* The Dried Bouquet\n",
            "* Whispering Blooms\n",
            "\n",
            "**Descriptive & Evocative:**\n",
            "\n",
            "* The Botanical Muse\n",
            "* The Dried Flower Studio\n",
            "* Sun-Kissed Blooms\n",
            "* The Vintage Petal\n",
            "* The Rustic Bouquet\n",
            "* The Nature's Palette\n",
            "* Echoes of Bloom\n",
            "* The Dried Garden\n",
            "\n",
            "**Unique & Playful:**\n",
            "\n",
            "* The Bloom & Bustle\n",
            "* Petal & Post\n",
            "* Flourish & Fade\n",
            "* The Flower Alchemist\n",
            "* The Bloom Revival\n",
            "* Forever & a Day Blooms\n",
            "* The Dried Blooms Emporium\n",
            "* The Bloom Library\n",
            "\n",
            "**Consider your target audience and the overall style of your shop.** \n",
            "\n",
            "**Tips for Choosing a Name:**\n",
            "\n",
            "* **Keep it short and memorable.**\n",
            "* **Make it relevant to your products.**\n",
            "* **Consider your brand image and target audience.**\n",
            "* **Check if the name is available as a domain name and social media handle.**\n",
            "* **Get feedback from friends and family.**\n"
          ]
        }
      ]
    },
    {
      "cell_type": "code",
      "source": [
        "prompt = \"Tell me about Earth\"\n",
        "print(call_gemini(prompt))"
      ],
      "metadata": {
        "colab": {
          "base_uri": "https://localhost:8080/"
        },
        "id": "ohkEYJU8T-2W",
        "outputId": "e2885161-58f7-454c-c5c7-6e554c1546dd"
      },
      "id": "ohkEYJU8T-2W",
      "execution_count": null,
      "outputs": [
        {
          "output_type": "stream",
          "name": "stdout",
          "text": [
            "## Earth: Our Home Planet \n",
            "\n",
            "Earth, our home planet, is a vibrant and complex world teeming with life. Here's a glimpse into its fascinating features:\n",
            "\n",
            "**The Basics:**\n",
            "\n",
            "* **Third planet from the Sun:** Earth orbits the Sun at an average distance of 93 million miles (150 million kilometers), completing one orbit every 365.25 days.\n",
            "* **One natural satellite:** Earth's moon is a significant force, causing tides and stabilizing our planet's rotation.\n",
            "* **Geologically active:** Earth is a dynamic planet with active volcanoes, earthquakes, and plate tectonics.\n",
            "* **Atmosphere:** Our planet has a unique atmosphere composed mainly of nitrogen and oxygen, which is essential for life.\n",
            "\n",
            "**The Earth System:**\n",
            "\n",
            "* **Biosphere:** The sphere of life on Earth encompasses all living organisms and their interactions, from microscopic bacteria to giant sequoia trees.\n",
            "* **Hydrosphere:** This includes all the water on Earth, from oceans and lakes to rivers and glaciers, playing a crucial role in regulating climate and supporting life.\n",
            "* **Lithosphere:** The Earth's solid outer layer, composed of rocks and minerals, provides the foundation for life and forms the planet's diverse landscapes.\n",
            "* **Atmosphere:** The gaseous layer surrounding the Earth protects us from harmful radiation, regulates temperature, and drives weather patterns.\n",
            "\n",
            "**Uniqueness and Life:**\n",
            "\n",
            "* **Water, water everywhere:** Earth is the only planet in our solar system known to have liquid water on its surface, a key ingredient for life as we know it.\n",
            "* **Abundant biodiversity:** Earth harbors a vast array of life forms, from single-celled organisms to complex animals, demonstrating incredible biodiversity.\n",
            "* **A dynamic climate:** Earth's climate is constantly changing, influenced by various factors like solar radiation, volcanic activity, and human activities.\n",
            "\n",
            "**Challenges and Future:**\n",
            "\n",
            "* **Climate change:** Human activities are significantly impacting Earth's climate, leading to changes in weather patterns, rising sea levels, and other environmental challenges.\n",
            "* **Resource depletion:** The increasing demand for resources like water, energy, and minerals puts strain on the planet's capacity to sustain life.\n",
            "* **Pollution:** Air, water, and land pollution are major concerns, negatively impacting ecosystems and human health.\n",
            "\n",
            "**Despite these challenges, Earth remains a remarkable and wondrous planet. Understanding its intricacies and complexities is crucial for ensuring its continued health and the future of humanity.** \n",
            "\n"
          ]
        }
      ]
    },
    {
      "cell_type": "code",
      "source": [
        "prompt = \"Generate a list of ways that makes Earth unique compared to other planets\"\n",
        "print(call_gemini(prompt))"
      ],
      "metadata": {
        "colab": {
          "base_uri": "https://localhost:8080/"
        },
        "id": "7OhX2Hb_UjUy",
        "outputId": "712dcf02-0c64-4a7e-e271-5c2a07105a20"
      },
      "id": "7OhX2Hb_UjUy",
      "execution_count": null,
      "outputs": [
        {
          "output_type": "stream",
          "name": "stdout",
          "text": [
            "## What Makes Earth Unique:\n",
            "\n",
            "**1. Presence of Life:** Earth is the only known planet in the universe that harbors life, as we understand it. This is due to a complex interplay of factors:\n",
            "\n",
            "* **Liquid Water:** Earth has the perfect temperature and atmospheric pressure to support liquid water on its surface, essential for life as we know it.\n",
            "* **Atmosphere:** Earth's atmosphere provides protection from harmful solar radiation and helps regulate temperature.\n",
            "* **Plate Tectonics:** Earth's dynamic geology, with its moving tectonic plates, creates diverse environments and cycles vital nutrients.\n",
            "* **Magnetic Field:** Earth's magnetic field shields us from the solar wind, which could strip away our atmosphere.\n",
            "\n",
            "**2. Suitable Distance from the Sun:** Earth orbits within the habitable zone, also known as the Goldilocks zone, where temperatures are neither too hot nor too cold for liquid water to exist.\n",
            "\n",
            "**3. Atmospheric Composition:**  Earth's atmosphere is composed primarily of nitrogen and oxygen, with trace amounts of other gases. This composition is critical for life, photosynthesis, and climate regulation.\n",
            "\n",
            "**4. Biodiversity:** Earth boasts an astonishing diversity of life, from microscopic organisms to giant whales. This diversity is a product of billions of years of evolution.\n",
            "\n",
            "**5. Unique Geological Features:** Earth possesses unique geological features such as mountains, oceans, deserts, and glaciers, which have shaped its history and ecosystems.\n",
            "\n",
            "**6. Presence of a Moon:** Earth's large moon stabilizes our planet's axis and creates tides, influencing climate and biological processes.\n",
            "\n",
            "**7. Planetary Rings:** Unlike the gas giants like Saturn, Jupiter, Uranus, and Neptune, Earth does not have a prominent ring system. This is partly due to its lack of a strong gravitational pull compared to the gas giants.\n",
            "\n",
            "**8. Active Volcanic Activity:** While volcanic activity can be destructive, it also plays a critical role in the Earth's climate and geochemical processes, releasing gases that contribute to our atmosphere.\n",
            "\n",
            "**9. Active Weather Systems:** Earth experiences a wide range of weather patterns, from calm sunny days to powerful storms. This dynamic weather is driven by the Earth's rotation, atmospheric circulation, and the uneven distribution of solar energy.\n",
            "\n",
            "**10. Human Civilization:** While this may be subjective, Earth is the only planet known to harbor intelligent life that has developed complex societies, technology, and culture.\n",
            "\n",
            "These unique characteristics make Earth a truly special planet, a haven for life and the only home we know. \n",
            "\n"
          ]
        }
      ]
    },
    {
      "cell_type": "code",
      "source": [
        "prompt = \"What's the best method of boiling water?\"\n",
        "print(call_gemini(prompt))"
      ],
      "metadata": {
        "colab": {
          "base_uri": "https://localhost:8080/"
        },
        "id": "T44Bngt7U9HG",
        "outputId": "01a8c6dd-15d3-4ceb-a4f6-8b7a796a50fe"
      },
      "id": "T44Bngt7U9HG",
      "execution_count": null,
      "outputs": [
        {
          "output_type": "stream",
          "name": "stdout",
          "text": [
            "There isn't one \"best\" method for boiling water, as it depends on your needs and resources. Here's a breakdown of different methods and their pros and cons:\n",
            "\n",
            "**1. Stovetop:**\n",
            "\n",
            "* **Pros:** Widely available, inexpensive, versatile for different pot sizes.\n",
            "* **Cons:** Can take longer to boil, requires constant monitoring, potential for spills.\n",
            "\n",
            "**2. Electric Kettle:**\n",
            "\n",
            "* **Pros:** Fast and efficient, automatic shut-off for safety, often features temperature control.\n",
            "* **Cons:** Can be expensive, less versatile than a stovetop, limited water capacity.\n",
            "\n",
            "**3. Microwave:**\n",
            "\n",
            "* **Pros:** Extremely fast, convenient, can be used for small amounts of water.\n",
            "* **Cons:** Not suitable for large quantities, can be uneven heating, potential for splattering.\n",
            "\n",
            "**4. Camping Stove:**\n",
            "\n",
            "* **Pros:** Portable and efficient for outdoor use, various fuel options available.\n",
            "* **Cons:** Can be expensive, requires fuel source, may be less convenient than other methods.\n",
            "\n",
            "**5. Solar Water Heater:**\n",
            "\n",
            "* **Pros:** Environmentally friendly, free energy source, can be used in remote locations.\n",
            "* **Cons:** Requires sunlight, can be slow, limited water capacity.\n",
            "\n",
            "**Choosing the best method for you:**\n",
            "\n",
            "* **For everyday use:** Stovetop is the most common and versatile option. Electric kettles are great for speed and convenience.\n",
            "* **For camping:** Camping stoves are essential for outdoor boiling.\n",
            "* **For sustainability:** Solar water heaters are an excellent choice if you have access to sunlight.\n",
            "\n",
            "**Additional Tips:**\n",
            "\n",
            "* **Use a lid:** This traps heat and speeds up boiling time.\n",
            "* **Don't overfill:** Leave space at the top of the pot to prevent overflow.\n",
            "* **Watch the water:** Never leave boiling water unattended.\n",
            "* **Turn off the heat:** Once the water boils, remove it from the heat source to prevent overboiling.\n",
            "\n",
            "Ultimately, the best method for boiling water is the one that works best for your situation and preferences. \n",
            "\n"
          ]
        }
      ]
    },
    {
      "cell_type": "code",
      "source": [
        "prompt = \"Why is the sky blue?\"\n",
        "print(call_gemini(prompt))"
      ],
      "metadata": {
        "colab": {
          "base_uri": "https://localhost:8080/"
        },
        "id": "9ssAOtgIVAYO",
        "outputId": "e955b8fd-f532-4a70-a8b8-626d8e496ff2"
      },
      "id": "9ssAOtgIVAYO",
      "execution_count": null,
      "outputs": [
        {
          "output_type": "stream",
          "name": "stdout",
          "text": [
            "The sky appears blue due to a phenomenon called **Rayleigh scattering**. \n",
            "\n",
            "Here's how it works:\n",
            "\n",
            "* **Sunlight is made up of all colors of the rainbow.**  These colors have different wavelengths.\n",
            "* **When sunlight enters the Earth's atmosphere, it interacts with the tiny molecules of air (like nitrogen and oxygen).**\n",
            "* **Shorter wavelengths of light, like blue and violet, are scattered more effectively by these molecules than longer wavelengths, like red and orange.** \n",
            "* **This scattered blue light reaches our eyes from all directions, making the sky appear blue.**\n",
            "\n",
            "**Think of it like this:** imagine shining a flashlight through a dusty room. The dust particles scatter the light, making it appear blue. The air molecules in our atmosphere are like tiny dust particles that scatter the blue light from the sun. \n",
            "\n",
            "**Why is the sky sometimes other colors?**\n",
            "\n",
            "* **At sunrise and sunset, the sunlight has to travel through more of the atmosphere.**  This means that most of the blue light is scattered away, leaving the longer wavelengths (red and orange) to reach our eyes. That's why we see beautiful red and orange sunsets.\n",
            "* **Clouds are white because they are made up of water droplets.** These droplets are much larger than the air molecules and scatter all wavelengths of light equally, giving the clouds a white appearance.\n",
            "\n",
            "Let me know if you have any other questions! \n",
            "\n"
          ]
        }
      ]
    },
    {
      "cell_type": "code",
      "source": [
        "generation_config = GenerationConfig(temperature=1.0)\n",
        "prompt = \"What day is it today?\"\n",
        "print(call_gemini(prompt, generation_config))"
      ],
      "metadata": {
        "colab": {
          "base_uri": "https://localhost:8080/"
        },
        "id": "DW1GResqVcpq",
        "outputId": "9d139926-785c-4e65-bf06-d69bdbf983de"
      },
      "id": "DW1GResqVcpq",
      "execution_count": null,
      "outputs": [
        {
          "output_type": "stream",
          "name": "stdout",
          "text": [
            "I do not have access to real-time information, including the current date. To know what day it is, please check a calendar or your device's clock. 😊 \n",
            "\n"
          ]
        }
      ]
    },
    {
      "cell_type": "code",
      "source": [
        "model_travel = GenerativeModel(\n",
        "    model_name=\"gemini-1.5-flash\",\n",
        "    system_instruction=[\n",
        "        \"Hello! You are an AI chatbot for a travel web site.\",\n",
        "        \"Your mission is to provide helpful queries for travelers.\",\n",
        "        \"Remember that before you answer a question, you must check to see if it complies with your mission.\",\n",
        "        \"If not, you can say, Sorry I can't answer that question.\",\n",
        "    ],\n",
        ")"
      ],
      "metadata": {
        "id": "VCen5xMyV7pd"
      },
      "id": "VCen5xMyV7pd",
      "execution_count": null,
      "outputs": []
    },
    {
      "cell_type": "code",
      "source": [
        "chat = model_travel.start_chat()\n",
        "\n",
        "prompt = \"What is the best place for sightseeing in Milan, Italy?\"\n",
        "\n",
        "print(send_message_gemini(chat, prompt))"
      ],
      "metadata": {
        "colab": {
          "base_uri": "https://localhost:8080/"
        },
        "id": "oW4zrVpVWAAZ",
        "outputId": "9080b26b-2702-4a0a-fc1c-7d4106690b78"
      },
      "id": "oW4zrVpVWAAZ",
      "execution_count": null,
      "outputs": [
        {
          "output_type": "stream",
          "name": "stdout",
          "text": [
            "Milan offers a wealth of stunning sights! To give you the best recommendation, I need a little more information. \n",
            "\n",
            "What are you most interested in seeing? \n",
            "\n",
            "* **Art & History:**  The Duomo, Sforza Castle, or Leonardo da Vinci's Last Supper are must-sees.\n",
            "* **Fashion & Design:** The Quadrilatero della Moda (Fashion District) and the Museo del Design are great choices.\n",
            "* **Food & Culture:** The Navigli canals, the vibrant Brera district, or the bustling Central Market offer a taste of Milanese life. \n",
            "\n",
            "Tell me what kind of experience you're looking for, and I can suggest the perfect place for sightseeing! \n",
            "\n"
          ]
        }
      ]
    },
    {
      "cell_type": "code",
      "source": [
        "prompt = \"What's for dinner?\"\n",
        "print(send_message_gemini(chat, prompt))"
      ],
      "metadata": {
        "colab": {
          "base_uri": "https://localhost:8080/"
        },
        "id": "yndaICCiWQOy",
        "outputId": "7e0906c2-dca8-4fad-b365-6d62ad80f115"
      },
      "id": "yndaICCiWQOy",
      "execution_count": null,
      "outputs": [
        {
          "output_type": "stream",
          "name": "stdout",
          "text": [
            "Sorry, I can't answer that question. I am a travel chatbot, and my purpose is to help with travel planning.  \n",
            "\n",
            "For dinner recommendations, I suggest checking out online restaurant review sites or asking a local for their favorite spots! \n",
            "\n"
          ]
        }
      ]
    },
    {
      "cell_type": "code",
      "source": [
        "prompt = \"I'm a high school student. Recommend me a programming activity to improve my skills.\"\n",
        "print(call_gemini(prompt))"
      ],
      "metadata": {
        "colab": {
          "base_uri": "https://localhost:8080/"
        },
        "id": "RjtjVu-ZWg-C",
        "outputId": "2dfb997a-bac3-4fb5-cea5-9e109504e5f9"
      },
      "id": "RjtjVu-ZWg-C",
      "execution_count": null,
      "outputs": [
        {
          "output_type": "stream",
          "name": "stdout",
          "text": [
            "That's great! Programming activities are a fantastic way to boost your skills. To recommend something that's perfect for you, tell me a little more about your interests and current programming knowledge. \n",
            "\n",
            "For example:\n",
            "\n",
            "* **What programming languages do you know (if any)?** \n",
            "* **What are you interested in learning about?** (e.g., web development, game development, data science)\n",
            "* **Are you looking for something challenging or more casual?**\n",
            "* **Do you prefer working solo or in a team?**\n",
            "\n",
            "Once I have a better understanding of your background and preferences, I can provide a more tailored recommendation. \n",
            "\n"
          ]
        }
      ]
    },
    {
      "cell_type": "code",
      "source": [
        "prompt = \"\"\"I'm a high school student. Which of these activities do you suggest and why:\n",
        "a) learn Python\n",
        "b) learn JavaScript\n",
        "c) learn Fortran\n",
        "\"\"\"\n",
        "\n",
        "print(call_gemini(prompt))"
      ],
      "metadata": {
        "colab": {
          "base_uri": "https://localhost:8080/"
        },
        "id": "k1SuSUcpWtbx",
        "outputId": "5ad69122-75ba-48bf-a9c8-2410e907b875"
      },
      "id": "k1SuSUcpWtbx",
      "execution_count": null,
      "outputs": [
        {
          "output_type": "stream",
          "name": "stdout",
          "text": [
            "It's great you're thinking about learning programming!  Choosing the right language depends on your goals and interests. Here's a breakdown of each option and why you might choose them:\n",
            "\n",
            "**a) Learn Python:**\n",
            "\n",
            "* **Why:**\n",
            "    * **Beginner-friendly:** Python is known for its clear, readable syntax, making it a popular choice for beginners.\n",
            "    * **Widely applicable:** Python is used in a vast range of fields like web development, data science, machine learning, and automation.\n",
            "    * **Large community & resources:**  Tons of tutorials, documentation, and online communities make learning Python easier.\n",
            "    * **In-demand skill:** Python developers are highly sought after in various industries. \n",
            "\n",
            "* **Best if:** You're interested in exploring different areas of programming, data science, machine learning, or building web applications.\n",
            "\n",
            "**b) Learn JavaScript:**\n",
            "\n",
            "* **Why:**\n",
            "    * **The language of the web:** JavaScript is essential for interactive web pages, animations, and front-end development.\n",
            "    * **Growing in popularity:**  JavaScript's use is extending beyond web development, with frameworks like Node.js enabling server-side development.\n",
            "    * **Good for building interactive experiences:**  If you're interested in building web games, web applications, or creating visually appealing websites, JavaScript is a good choice.\n",
            "\n",
            "* **Best if:** You're interested in web development, front-end programming, or creating interactive user experiences.\n",
            "\n",
            "**c) Learn Fortran:**\n",
            "\n",
            "* **Why:**\n",
            "    * **Scientific computing powerhouse:** Fortran is still widely used in scientific computing, high-performance computing, and engineering applications.\n",
            "    * **Legacy code:**  Many existing scientific software programs are written in Fortran, so learning it can be helpful for working with them.\n",
            "    * **Efficient performance:**  Fortran is known for its efficiency and ability to handle complex calculations.\n",
            "\n",
            "* **Best if:** You're interested in scientific computing, numerical analysis, or working with legacy code in those fields.\n",
            "\n",
            "**Recommendations:**\n",
            "\n",
            "* **If you're a complete beginner, Python is a great starting point.** Its ease of use and wide applicability make it a valuable skill to have.\n",
            "* **If you're drawn to web development, JavaScript is a must-learn.** It's the core language for modern web experiences.\n",
            "* **Fortran is more niche and generally not the best choice for a first language.** Unless you have specific goals in scientific computing, other languages might be more beneficial.\n",
            "\n",
            "**Don't be afraid to explore!** You can learn multiple languages over time. The important thing is to choose something that excites you and aligns with your interests. Good luck with your programming journey! \n",
            "\n"
          ]
        }
      ]
    },
    {
      "cell_type": "code",
      "source": [
        "prompt = \"\"\"Decide whether a Tweet's sentiment is positive, neutral, or negative.\n",
        "\n",
        "Tweet: I loved the new YouTube video you made!\n",
        "Sentiment:\n",
        "\"\"\"\n",
        "print(call_gemini(prompt))\n"
      ],
      "metadata": {
        "colab": {
          "base_uri": "https://localhost:8080/"
        },
        "id": "wcslm4_eW-ue",
        "outputId": "18758502-b3cb-44ff-e070-78e5c13d0020"
      },
      "id": "wcslm4_eW-ue",
      "execution_count": null,
      "outputs": [
        {
          "output_type": "stream",
          "name": "stdout",
          "text": [
            "Sentiment: **Positive** \n",
            "\n"
          ]
        }
      ]
    },
    {
      "cell_type": "code",
      "source": [
        "prompt = \"\"\"Decide whether a Tweet's sentiment is positive, neutral, or negative.\n",
        "\n",
        "Tweet: I loved the new YouTube video you made!\n",
        "Sentiment: positive\n",
        "\n",
        "Tweet: That was awful. Super boring 😠\n",
        "Sentiment:\n",
        "\"\"\"\n",
        "print(call_gemini(prompt))"
      ],
      "metadata": {
        "colab": {
          "base_uri": "https://localhost:8080/"
        },
        "id": "RdHaXBg5XKY8",
        "outputId": "90c353b6-df2d-4a41-b0f5-d90018412400"
      },
      "id": "RdHaXBg5XKY8",
      "execution_count": null,
      "outputs": [
        {
          "output_type": "stream",
          "name": "stdout",
          "text": [
            "Sentiment: **negative** \n",
            "\n"
          ]
        }
      ]
    },
    {
      "cell_type": "code",
      "source": [
        "prompt = \"\"\"Decide whether a Tweet's sentiment is positive, neutral, or negative.\n",
        "\n",
        "Tweet: I loved the new YouTube video you made!\n",
        "Sentiment: positive\n",
        "\n",
        "Tweet: That was awful. Super boring 😠\n",
        "Sentiment: negative\n",
        "\n",
        "Tweet: Something surprised me about this video - it was actually original. It was not the same old recycled stuff that I always see. Watch it - you will not regret it.\n",
        "Sentiment:\n",
        "\"\"\"\n",
        "print(call_gemini(prompt))"
      ],
      "metadata": {
        "colab": {
          "base_uri": "https://localhost:8080/"
        },
        "id": "Q1YwUxRPXX1n",
        "outputId": "5733e89e-3bc2-40f7-f70f-8119787ac274"
      },
      "id": "Q1YwUxRPXX1n",
      "execution_count": null,
      "outputs": [
        {
          "output_type": "stream",
          "name": "stdout",
          "text": [
            "Sentiment: **positive** \n",
            "\n",
            "Here's why:\n",
            "\n",
            "* **\"Something surprised me about this video - it was actually original.\"**  This implies a positive experience.  \n",
            "* **\"It was not the same old recycled stuff that I always see.\"** This is a clear statement of preference for something new and different. \n",
            "* **\"Watch it - you will not regret it.\"** This is a strong recommendation, indicating a positive overall sentiment. \n",
            "\n"
          ]
        }
      ]
    }
  ],
  "metadata": {
    "kernelspec": {
      "display_name": "Python 3",
      "language": "python",
      "name": "python3"
    },
    "language_info": {
      "codemirror_mode": {
        "name": "ipython",
        "version": 3
      },
      "file_extension": ".py",
      "mimetype": "text/x-python",
      "name": "python",
      "nbconvert_exporter": "python",
      "pygments_lexer": "ipython3",
      "version": "3.10.10"
    },
    "colab": {
      "provenance": [],
      "name": "singhalkajay (Apr 4, 2025, 9:13:20 AM)"
    }
  },
  "nbformat": 4,
  "nbformat_minor": 5
}